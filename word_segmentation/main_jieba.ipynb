{
 "cells": [
  {
   "cell_type": "markdown",
   "id": "f1e5be0b-08d3-44c6-aefa-2ecb5226d180",
   "metadata": {},
   "source": [
    "# 结巴分词实践"
   ]
  },
  {
   "cell_type": "markdown",
   "id": "3d72e5c4-1cec-4f83-bd87-7804ea9f0f48",
   "metadata": {},
   "source": [
    "## 结巴分词的三种模式"
   ]
  },
  {
   "cell_type": "markdown",
   "id": "1e67ba23-8580-4ca2-9de0-cdbc32711ab8",
   "metadata": {},
   "source": [
    "### 全模式"
   ]
  },
  {
   "cell_type": "code",
   "execution_count": 1,
   "id": "008cbe72-e9f6-4bd9-aeb6-8b0397ff4370",
   "metadata": {},
   "outputs": [
    {
     "name": "stderr",
     "output_type": "stream",
     "text": [
      "Building prefix dict from the default dictionary ...\n",
      "Dumping model to file cache C:\\Users\\HONOR\\AppData\\Local\\Temp\\jieba.cache\n",
      "Loading model cost 1.717 seconds.\n",
      "Prefix dict has been built successfully.\n"
     ]
    },
    {
     "name": "stdout",
     "output_type": "stream",
     "text": [
      "Full Mode: 我/ 来到/ 北京/ 清华/ 清华大学/ 华大/ 大学\n"
     ]
    }
   ],
   "source": [
    "import jieba\n",
    "\n",
    "seg_list = jieba.cut(\"我来到北京清华大学\", cut_all=True)\n",
    "print(\"Full Mode: \" + \"/ \".join(seg_list))  # 全模式"
   ]
  },
  {
   "cell_type": "markdown",
   "id": "e6e58346-9094-4144-8712-719ca4ccb5ef",
   "metadata": {},
   "source": [
    "### 精确模式"
   ]
  },
  {
   "cell_type": "code",
   "execution_count": 2,
   "id": "485f3c77-4c2e-4f53-8015-e40715690580",
   "metadata": {},
   "outputs": [
    {
     "name": "stdout",
     "output_type": "stream",
     "text": [
      "Default Mode: 我/ 来到/ 北京/ 清华大学\n"
     ]
    }
   ],
   "source": [
    "seg_list = jieba.cut(\"我来到北京清华大学\", cut_all=False)\n",
    "print(\"Default Mode: \" + \"/ \".join(seg_list))  # 精确模式"
   ]
  },
  {
   "cell_type": "markdown",
   "id": "9084aafc-083d-450b-b03b-26db3db32460",
   "metadata": {},
   "source": [
    "### 搜索引擎模式"
   ]
  },
  {
   "cell_type": "code",
   "execution_count": 3,
   "id": "275702e2-9d3f-43a8-9612-82c9a801f728",
   "metadata": {},
   "outputs": [
    {
     "name": "stdout",
     "output_type": "stream",
     "text": [
      "小明, 硕士, 毕业, 于, 中国, 科学, 学院, 科学院, 中国科学院, 计算, 计算所, ，, 后, 在, 日本, 京都, 大学, 日本京都大学, 深造\n"
     ]
    }
   ],
   "source": [
    "seg_list = jieba.cut_for_search(\"小明硕士毕业于中国科学院计算所，后在日本京都大学深造\")  # 搜索引擎模式\n",
    "print(\", \".join(seg_list))"
   ]
  },
  {
   "cell_type": "markdown",
   "id": "a51fe09e-d131-46a8-836f-b9e3ef051768",
   "metadata": {},
   "source": [
    "## 载入词典"
   ]
  },
  {
   "cell_type": "code",
   "execution_count": 7,
   "id": "ccda678b-3a89-4586-926b-2b81ededd4b1",
   "metadata": {},
   "outputs": [
    {
     "name": "stdout",
     "output_type": "stream",
     "text": [
      "Default Mode:曾家豪/ 即将/ 是/ 自然语言/ 处理/ 方面/ 的/ 高手\n"
     ]
    }
   ],
   "source": [
    "jieba.load_userdict(\"userdict.txt\")\n",
    "seg_list = jieba.cut(\"曾家豪即将是自然语言处理方面的高手\",cut_all = False,HMM = False)\n",
    "print(\"Default Mode:\" + \"/ \".join(seg_list))"
   ]
  },
  {
   "cell_type": "markdown",
   "id": "1849a980-bdd9-4923-aa25-76e7633c6bcc",
   "metadata": {},
   "source": [
    "### 基于TextRank算法的关键词抽取"
   ]
  },
  {
   "cell_type": "code",
   "execution_count": 1,
   "id": "11cf8d92-0c38-4e39-ba18-9cf08e1d63bf",
   "metadata": {},
   "outputs": [
    {
     "name": "stderr",
     "output_type": "stream",
     "text": [
      "Building prefix dict from the default dictionary ...\n",
      "Loading model from cache C:\\Users\\HONOR\\AppData\\Local\\Temp\\jieba.cache\n",
      "Loading model cost 0.816 seconds.\n",
      "Prefix dict has been built successfully.\n"
     ]
    },
    {
     "name": "stdout",
     "output_type": "stream",
     "text": [
      "重点 1.0\n",
      "大学 0.9635631335578456\n",
      "国家 0.9273412563201143\n",
      "河北省 0.6235965850264276\n",
      "共建 0.5433775103953393\n"
     ]
    }
   ],
   "source": [
    "import jieba.analyse\n",
    "s = \"燕山大学是河北省人民政府、教育部、工业和信息化部、国家国防科技工业局四方共建的全国重点大学，河北省重点支持的国家一流大学和世界一流学科建设高校，北京高科大学联盟成员。\"\n",
    "for x, w in jieba.analyse.textrank(s, withWeight=True, topK=5):\n",
    "    print('%s %s' % (x, w))"
   ]
  },
  {
   "cell_type": "code",
   "execution_count": null,
   "id": "2c3c9b3a-f0b1-4ac6-a1fc-947fe4d13536",
   "metadata": {},
   "outputs": [],
   "source": []
  }
 ],
 "metadata": {
  "kernelspec": {
   "display_name": "Python 3 (ipykernel)",
   "language": "python",
   "name": "python3"
  },
  "language_info": {
   "codemirror_mode": {
    "name": "ipython",
    "version": 3
   },
   "file_extension": ".py",
   "mimetype": "text/x-python",
   "name": "python",
   "nbconvert_exporter": "python",
   "pygments_lexer": "ipython3",
   "version": "3.9.21"
  }
 },
 "nbformat": 4,
 "nbformat_minor": 5
}
